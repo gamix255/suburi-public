{
  "nbformat": 4,
  "nbformat_minor": 0,
  "metadata": {
    "colab": {
      "provenance": [],
      "authorship_tag": "ABX9TyOiew3V8ncaFnD388aZDn3F"
    },
    "kernelspec": {
      "name": "python3",
      "display_name": "Python 3"
    },
    "language_info": {
      "name": "python"
    }
  },
  "cells": [
    {
      "cell_type": "code",
      "source": [
        "import dbm\n",
        "import os\n",
        "import uuid\n",
        "\n",
        "class LinkedList:\n",
        "    def __init__(self,dbfile=\"default_list\"):\n",
        "        self.dbfile=dbfile\n",
        "        dbfile_exist = os.path.isfile(dbfile + '.db')\n",
        "        if not dbfile_exist:\n",
        "            self.db2 = dbm.open(dbfile, 'c')\n",
        "            self.newll()\n",
        "            print (\"init:\" + \"new dbfile \" + dbfile)\n",
        "            print (\"init:\"+str(self.get_node_dict('HEAD')))\n",
        "        else:\n",
        "            self.db2 = dbm.open(dbfile, 'w')\n",
        "            print (\"init:\" + \"exist db file open\" + dbfile)\n",
        "    \n",
        "    def newll(self):\n",
        "        self.update_node(KEY='HEAD',val=\"dummy\",next_node_key=None)\n",
        "        return\n",
        "\n",
        "    def get_node_dict(self,KEY):\n",
        "        return eval(self.db2[KEY])\n",
        "    \n",
        "    def get_next_uuid(self,KEY):\n",
        "        return self.get_node_dict(KEY).get(\"next_uuid\")\n",
        "\n",
        "    def update_node(self,KEY,val,next_node_key):\n",
        "        CurNodeDict={ 'val':val,'next_uuid':next_node_key}\n",
        "        self.db2[str(KEY)]=str(CurNodeDict)\n",
        "\n",
        "    def set_newnode(self,val,next_node_key):\n",
        "        new_uuid_str=str(uuid.uuid4()).replace(\"-\", \"\")\n",
        "        self.update_node(KEY=new_uuid_str,val=val,next_node_key=next_node_key)\n",
        "        return new_uuid_str\n",
        "\n",
        "    def insert_head(self, val):\n",
        "        new_key=self.set_newnode(val=val,next_node_key=self.get_next_uuid(KEY='HEAD'))\n",
        "        self.update_node(KEY='HEAD',val=\"dummy\",next_node_key=new_key)\n",
        "        print('insert'+str(self.get_node_dict(new_key)))\n",
        "\n",
        "    def insert_after(self, val,uuid):\n",
        "        CurNode=self.get_node_dict(uuid)\n",
        "        new_key=self.set_newnode(val=val,next_node_key=CurNode.get(\"next_uuid\"))\n",
        "        self.update_node(KEY=uuid,val=CurNode.get(\"val\"),next_node_key=new_key)\n",
        "        print('insert'+str(self.get_node_dict(new_key)))\n",
        "\n",
        "    def remove_after(self,uuid):\n",
        "        CurNode=self.get_node_dict(uuid)\n",
        "        NextNode=self.get_node_dict(CurNode.get(\"next_uuid\"))\n",
        "        self.update_node(KEY=uuid,val=CurNode.get(\"val\"),next_node_key=NextNode.get(\"next_uuid\"))\n",
        "        print('remove'+str(self.get_node_dict(CurNode.get(\"next_uuid\"))))\n",
        "    \n",
        "    def newdb(self):\n",
        "        self.db2.close()\n",
        "        self.db2 = dbm.open(self.dbfile, 'c')\n",
        "        self.newll()\n",
        "    \n",
        "    def get_listdb_dump(self, hashstr):\n",
        "        if eval(self.db2[hashstr]).get(\"next_uuid\")==None:\n",
        "            return str(hashstr) + \":\" + str(self.db2[hashstr])\n",
        "        else:\n",
        "            return str(hashstr) + \":\" + str(eval(self.db2[hashstr])) + \"\\n\"  + self.get_listdb_dump(str(eval(self.db2[hashstr]).get(\"next_uuid\")))\n",
        "    \n",
        "    def close_db(self):\n",
        "        self.db2.close()\n",
        "\n",
        "\n",
        "linked_list1 = LinkedList()\n",
        "linked_list1.newdb()\n",
        "#linked_list1.insert_head(\"1\")\n",
        "#linked_list1.insert_head(\"2\")\n",
        "#linked_list1.insert_head(\"HOGEHOGE\")\n",
        "#print(linked_list1.get_listdb_dump(\"HEAD\"))\n",
        "\n",
        "print(\"\")\n",
        "linked_list1.newdb()\n",
        "linked_list1.insert_after(\"1\",\"HEAD\")\n",
        "linked_list1.insert_after(\"2\",\"HEAD\")\n",
        "linked_list1.insert_after(\"3\",\"HEAD\")\n",
        "linked_list1.insert_after(\"4\",\"HEAD\")\n",
        "linked_list1.insert_after(\"5\",\"HEAD\")\n",
        "\n",
        "linked_list1.insert_after(\"HOGEHOGE\",\"HEAD\")\n",
        "\n",
        "\n",
        "print(linked_list1.get_listdb_dump(\"HEAD\"))\n",
        "linked_list1.close_db()\n",
        "\n"
      ],
      "metadata": {
        "colab": {
          "base_uri": "https://localhost:8080/"
        },
        "outputId": "efadf9df-c63a-46e8-bc0a-76edd469a3fb",
        "id": "PAcrO96qGMAd"
      },
      "execution_count": null,
      "outputs": [
        {
          "output_type": "stream",
          "name": "stdout",
          "text": [
            "init:exist db file opendefault_list\n",
            "\n",
            "insert{'val': '1', 'next_uuid': None}\n",
            "insert{'val': '2', 'next_uuid': 'f6b0c5e6e0904161b13c7b0501662513'}\n",
            "insert{'val': '3', 'next_uuid': 'be8a23e2615d4c1e8e0362d184182ced'}\n",
            "insert{'val': '4', 'next_uuid': '05384154176447d0b7bd76a0c7b28969'}\n",
            "insert{'val': '5', 'next_uuid': '4c060995a9fd46d9a3c3d25339f77ce3'}\n",
            "insert{'val': 'HOGEHOGE', 'next_uuid': '3478db03b29c43d893aa90fc16dec465'}\n",
            "HEAD:{'val': 'dummy', 'next_uuid': 'c83e0479798f499ca1f66ec0c1618cba'}\n",
            "c83e0479798f499ca1f66ec0c1618cba:{'val': 'HOGEHOGE', 'next_uuid': '3478db03b29c43d893aa90fc16dec465'}\n",
            "3478db03b29c43d893aa90fc16dec465:{'val': '5', 'next_uuid': '4c060995a9fd46d9a3c3d25339f77ce3'}\n",
            "4c060995a9fd46d9a3c3d25339f77ce3:{'val': '4', 'next_uuid': '05384154176447d0b7bd76a0c7b28969'}\n",
            "05384154176447d0b7bd76a0c7b28969:{'val': '3', 'next_uuid': 'be8a23e2615d4c1e8e0362d184182ced'}\n",
            "be8a23e2615d4c1e8e0362d184182ced:{'val': '2', 'next_uuid': 'f6b0c5e6e0904161b13c7b0501662513'}\n",
            "f6b0c5e6e0904161b13c7b0501662513:b\"{'val': '1', 'next_uuid': None}\"\n"
          ]
        }
      ]
    },
    {
      "cell_type": "code",
      "source": [
        "#linked_list2.close_db()\n",
        "linked_list2 = LinkedList()\n",
        "print(linked_list2.get_listdb_dump(\"HEAD\"))\n",
        "print(\"####################################################\")\n",
        "\n",
        "\n",
        "\n",
        "#linked_list2.insert_after(\"42\",\"HEAD\")\n",
        "linked_list2.remove_after(\"05384154176447d0b7bd76a0c7b28969\")\n",
        "print(linked_list2.get_listdb_dump(\"HEAD\"))\n"
      ],
      "metadata": {
        "colab": {
          "base_uri": "https://localhost:8080/"
        },
        "id": "YXArqoPsGLMe",
        "outputId": "9a89c1b9-20da-4913-c084-57208e1abb87"
      },
      "execution_count": null,
      "outputs": [
        {
          "output_type": "stream",
          "name": "stdout",
          "text": [
            "init:exist db file opendefault_list\n",
            "HEAD:{'val': 'dummy', 'next_uuid': 'c83e0479798f499ca1f66ec0c1618cba'}\n",
            "c83e0479798f499ca1f66ec0c1618cba:{'val': 'HOGEHOGE', 'next_uuid': '3478db03b29c43d893aa90fc16dec465'}\n",
            "3478db03b29c43d893aa90fc16dec465:{'val': '5', 'next_uuid': '4c060995a9fd46d9a3c3d25339f77ce3'}\n",
            "4c060995a9fd46d9a3c3d25339f77ce3:{'val': '4', 'next_uuid': '05384154176447d0b7bd76a0c7b28969'}\n",
            "05384154176447d0b7bd76a0c7b28969:{'val': '3', 'next_uuid': 'be8a23e2615d4c1e8e0362d184182ced'}\n",
            "be8a23e2615d4c1e8e0362d184182ced:{'val': '2', 'next_uuid': 'f6b0c5e6e0904161b13c7b0501662513'}\n",
            "f6b0c5e6e0904161b13c7b0501662513:b\"{'val': '1', 'next_uuid': None}\"\n",
            "####################################################\n",
            "remove{'val': '2', 'next_uuid': 'f6b0c5e6e0904161b13c7b0501662513'}\n",
            "HEAD:{'val': 'dummy', 'next_uuid': 'c83e0479798f499ca1f66ec0c1618cba'}\n",
            "c83e0479798f499ca1f66ec0c1618cba:{'val': 'HOGEHOGE', 'next_uuid': '3478db03b29c43d893aa90fc16dec465'}\n",
            "3478db03b29c43d893aa90fc16dec465:{'val': '5', 'next_uuid': '4c060995a9fd46d9a3c3d25339f77ce3'}\n",
            "4c060995a9fd46d9a3c3d25339f77ce3:{'val': '4', 'next_uuid': '05384154176447d0b7bd76a0c7b28969'}\n",
            "05384154176447d0b7bd76a0c7b28969:{'val': '3', 'next_uuid': 'f6b0c5e6e0904161b13c7b0501662513'}\n",
            "f6b0c5e6e0904161b13c7b0501662513:b\"{'val': '1', 'next_uuid': None}\"\n"
          ]
        }
      ]
    },
    {
      "cell_type": "code",
      "source": [
        "linked_list2.insert_after(\"29\",\"8931927314af4644a29a180aa937e0a9\")\n",
        "print(linked_list2.get_listdb_dump(\"HEAD\"))\n"
      ],
      "metadata": {
        "colab": {
          "base_uri": "https://localhost:8080/"
        },
        "id": "7t8D-XXGQPjg",
        "outputId": "d4b0cf57-4c2c-4bbf-b520-b8fd1b7fdf25"
      },
      "execution_count": null,
      "outputs": [
        {
          "output_type": "stream",
          "name": "stdout",
          "text": [
            "insert{'val': '29', 'next_uuid': '38e478df60de4f43a5cd71bb327e2563'}\n",
            "HEAD:{'val': 'dummy', 'next_uuid': '76b63a8c0ac949c1bb05a128ca7522d6'}\n",
            "76b63a8c0ac949c1bb05a128ca7522d6:{'val': '42', 'next_uuid': '0c753e5626bc4001b9a59463f49cdab4'}\n",
            "0c753e5626bc4001b9a59463f49cdab4:{'val': 'HOGEHOGE', 'next_uuid': '8931927314af4644a29a180aa937e0a9'}\n",
            "8931927314af4644a29a180aa937e0a9:{'val': '2', 'next_uuid': '1f98ca675d5b4ddf8178e3598ff668fc'}\n",
            "1f98ca675d5b4ddf8178e3598ff668fc:{'val': '29', 'next_uuid': '38e478df60de4f43a5cd71bb327e2563'}\n",
            "38e478df60de4f43a5cd71bb327e2563:b\"{'val': '1', 'next_uuid': None}\"\n"
          ]
        }
      ]
    },
    {
      "cell_type": "code",
      "source": [
        "linked_list2.insert_after(\"29\",\"38e478df60de4f43a5cd71bb327e2563\")\n",
        "print(linked_list2.get_listdb_dump(\"HEAD\"))\n"
      ],
      "metadata": {
        "colab": {
          "base_uri": "https://localhost:8080/"
        },
        "id": "tEXqYL8yTEEX",
        "outputId": "9f342082-bf8c-4d05-cb98-cdd5ebde85dd"
      },
      "execution_count": null,
      "outputs": [
        {
          "output_type": "stream",
          "name": "stdout",
          "text": [
            "insert{'val': '29', 'next_uuid': None}\n",
            "HEAD:{'val': 'dummy', 'next_uuid': '76b63a8c0ac949c1bb05a128ca7522d6'}\n",
            "76b63a8c0ac949c1bb05a128ca7522d6:{'val': '42', 'next_uuid': '0c753e5626bc4001b9a59463f49cdab4'}\n",
            "0c753e5626bc4001b9a59463f49cdab4:{'val': 'HOGEHOGE', 'next_uuid': '8931927314af4644a29a180aa937e0a9'}\n",
            "8931927314af4644a29a180aa937e0a9:{'val': '2', 'next_uuid': '1f98ca675d5b4ddf8178e3598ff668fc'}\n",
            "1f98ca675d5b4ddf8178e3598ff668fc:{'val': '29', 'next_uuid': '38e478df60de4f43a5cd71bb327e2563'}\n",
            "38e478df60de4f43a5cd71bb327e2563:{'val': '1', 'next_uuid': '40fc29ea1a764d558fe318f453b78d64'}\n",
            "40fc29ea1a764d558fe318f453b78d64:b\"{'val': '29', 'next_uuid': None}\"\n"
          ]
        }
      ]
    }
  ]
}